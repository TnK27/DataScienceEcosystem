{
  "metadata": {
    "kernelspec": {
      "name": "python",
      "display_name": "Python (Pyodide)",
      "language": "python"
    },
    "language_info": {
      "codemirror_mode": {
        "name": "python",
        "version": 3
      },
      "file_extension": ".py",
      "mimetype": "text/x-python",
      "name": "python",
      "nbconvert_exporter": "python",
      "pygments_lexer": "ipython3",
      "version": "3.8"
    }
  },
  "nbformat_minor": 5,
  "nbformat": 4,
  "cells": [
    {
      "id": "54ac493b-ed32-4c0a-85c1-97c1694ea1d5",
      "cell_type": "markdown",
      "source": "# Data Science Tools and Ecosystem",
      "metadata": {}
    },
    {
      "id": "4a072222-a316-4ccb-9783-00eec5456062",
      "cell_type": "markdown",
      "source": "## Author\nTyson Carter",
      "metadata": {}
    },
    {
      "id": "64f4e3e0-8305-44aa-baac-34d3bfe33d80",
      "cell_type": "markdown",
      "source": "## In this notebook, Data Science Tools and Ecosystem are summarized.",
      "metadata": {}
    },
    {
      "id": "79d79033-f737-4839-8ef0-fa42dd3eb64a",
      "cell_type": "markdown",
      "source": "## **Objectives:**\n- List popular languages for Data Science\n- List commonly used libraries for Data Science\n- Evaluate arithmetic expressions in Python",
      "metadata": {}
    },
    {
      "id": "af90884d-9e6c-4453-bd93-c374f4d8e216",
      "cell_type": "markdown",
      "source": "### Some of the popular languages that Data Scientists use are:\n1. Python\n2. R\n3. Java\n4. C++",
      "metadata": {}
    },
    {
      "id": "9378386e-221f-4053-8dcf-a60d34738bbc",
      "cell_type": "markdown",
      "source": "### Some of the commonly used libraries used by Data Scientists include:\n1. Matplotlib\n2. Plotly\n3. NumPy",
      "metadata": {}
    },
    {
      "id": "137ab286-1373-4039-a241-8a2a9fb2b0ea",
      "cell_type": "markdown",
      "source": "| Data Science Tools |\n| ---------- |\n| Apache Spark |\n| Scikit-learn |\n| TensorFlow |",
      "metadata": {}
    },
    {
      "id": "55622a89-1f43-415e-b85d-d4bb5f133101",
      "cell_type": "markdown",
      "source": "### Below are a few examples of evaluating arithmetic expressions in Python:",
      "metadata": {}
    },
    {
      "id": "059fdf5e-b888-436b-b22c-21a1b7fa7eff",
      "cell_type": "code",
      "source": "#This a simple arithmetic expression to mutiply then add integers\n(3*4)+5",
      "metadata": {
        "trusted": true
      },
      "outputs": [
        {
          "execution_count": 2,
          "output_type": "execute_result",
          "data": {
            "text/plain": "17"
          },
          "metadata": {}
        }
      ],
      "execution_count": 2
    },
    {
      "id": "2a11c3bb-b7ec-4687-9485-c8b6833105ba",
      "cell_type": "code",
      "source": "#This will convert 200 minutes to hours by diving by 60.\nminutes = 200\nhours = (minutes/60)\nprint(f\"{minutes} minutes equals {hours} hours.\")",
      "metadata": {
        "trusted": true
      },
      "outputs": [
        {
          "name": "stdout",
          "output_type": "stream",
          "text": "200 minutes equals 3.3333333333333335 hours.\n"
        }
      ],
      "execution_count": 6
    },
    {
      "id": "49f9bd1d-2f78-4a61-aacd-d8aee7937713",
      "cell_type": "code",
      "source": "",
      "metadata": {
        "trusted": true
      },
      "outputs": [],
      "execution_count": null
    }
  ]
}